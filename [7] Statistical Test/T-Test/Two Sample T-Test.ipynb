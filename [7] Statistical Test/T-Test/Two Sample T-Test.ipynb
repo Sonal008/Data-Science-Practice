{
 "cells": [
  {
   "cell_type": "markdown",
   "id": "22a44694",
   "metadata": {},
   "source": [
    "### Compare the mean of two samples\n",
    "Six subjects were given a drug(treatment group) and an additional six subjects were given placebo(control group). Their reaction time to a stimulus was measured in 'ms'. We want to perform a two-sample t-test for comparing the means of the treatment and control groups"
   ]
  },
  {
   "cell_type": "code",
   "execution_count": 1,
   "id": "bcff5331",
   "metadata": {},
   "outputs": [],
   "source": [
    "#import the libraries\n",
    "import pandas as pd\n",
    "import scipy \n",
    "import numpy as np\n",
    "from scipy import stats"
   ]
  },
  {
   "cell_type": "markdown",
   "id": "0cdb8b36",
   "metadata": {},
   "source": [
    "#### H0 = u1-u2 = 0 --- no significant difference\n",
    "#### H1 = u1-u2 != 0 --- significant difference (not equal)"
   ]
  },
  {
   "cell_type": "code",
   "execution_count": 6,
   "id": "5796cf78",
   "metadata": {},
   "outputs": [],
   "source": [
    "Control_group=pd.Series([91, 87, 99, 77, 88, 91])\n",
    "Treat_group =pd.Series([101, 110, 103, 93, 99, 104])"
   ]
  },
  {
   "cell_type": "code",
   "execution_count": 5,
   "id": "6119c139",
   "metadata": {},
   "outputs": [
    {
     "data": {
      "text/plain": [
       "Ttest_indResult(statistic=-3.445612673536487, pvalue=0.006272124350809803)"
      ]
     },
     "execution_count": 5,
     "metadata": {},
     "output_type": "execute_result"
    }
   ],
   "source": [
    "#Compare avg of two samples independetly checked\n",
    "stats.ttest_ind(Control_group,Treat_group)"
   ]
  },
  {
   "cell_type": "code",
   "execution_count": 8,
   "id": "70c7fa08",
   "metadata": {},
   "outputs": [
    {
     "data": {
      "text/plain": [
       "0.006272124350809803"
      ]
     },
     "execution_count": 8,
     "metadata": {},
     "output_type": "execute_result"
    }
   ],
   "source": [
    "p_value = stats.ttest_ind(Control_group,Treat_group)[1]\n",
    "p_value   #take only p_value"
   ]
  },
  {
   "cell_type": "code",
   "execution_count": 9,
   "id": "26a3dd9f",
   "metadata": {},
   "outputs": [
    {
     "name": "stdout",
     "output_type": "stream",
     "text": [
      "reject null hypothesis\n"
     ]
    }
   ],
   "source": [
    "if p_value <0.05:\n",
    "    print(\"reject null hypothesis\")\n",
    "else:\n",
    "    print(\"accept null hypothesis\")"
   ]
  },
  {
   "cell_type": "markdown",
   "id": "2f191d31",
   "metadata": {},
   "source": [
    "#### Hence, the two Medicine have significant difference"
   ]
  }
 ],
 "metadata": {
  "kernelspec": {
   "display_name": "Python 3 (ipykernel)",
   "language": "python",
   "name": "python3"
  },
  "language_info": {
   "codemirror_mode": {
    "name": "ipython",
    "version": 3
   },
   "file_extension": ".py",
   "mimetype": "text/x-python",
   "name": "python",
   "nbconvert_exporter": "python",
   "pygments_lexer": "ipython3",
   "version": "3.9.12"
  }
 },
 "nbformat": 4,
 "nbformat_minor": 5
}
