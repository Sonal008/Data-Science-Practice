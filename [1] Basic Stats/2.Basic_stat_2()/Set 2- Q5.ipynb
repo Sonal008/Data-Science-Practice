{
 "cells": [
  {
   "cell_type": "markdown",
   "id": "154aed25",
   "metadata": {},
   "source": [
    "Q5. Consider a company that has two different divisions. \n",
    "The annual profits from the two divisions are independent and have distributions Profit1 ~ N(5, 32) and Profit2 ~ N(7, 42) respectively. \n",
    "Both the profits are in Million. \n",
    "Answer the following questions about the total profit of the company in Rupees. \n",
    "Assume that 1dollar = Rs. 45\n",
    "\n",
    "- Specify a Rupee range (centered on the mean) such that it contains 95% probability for the annual profit of the company.\n",
    "- Specify the 5th percentile of profit (in Rupees) for the company\n",
    "- Which of the two divisions has a larger probability of making a loss in a given year?"
   ]
  },
  {
   "cell_type": "code",
   "execution_count": 1,
   "id": "e5c37662",
   "metadata": {},
   "outputs": [],
   "source": [
    "import pandas as pd\n",
    "import numpy as np\n",
    "import seaborn as sns"
   ]
  },
  {
   "cell_type": "code",
   "execution_count": 1,
   "id": "5c8dc5c6",
   "metadata": {},
   "outputs": [
    {
     "name": "stdout",
     "output_type": "stream",
     "text": [
      "Mean Profit is 540 Million\n"
     ]
    }
   ],
   "source": [
    "#mean profit of two divisions of company\n",
    "mean = 5+7   #m1 + m2\n",
    "print('Mean Profit is', mean*45,'million')"
   ]
  },
  {
   "cell_type": "code",
   "execution_count": null,
   "id": "00b7a6bc",
   "metadata": {},
   "outputs": [],
   "source": [
    "# Variance of profits from two different divisions of a company = SD^2 = SD1^2 + SD2^2\n",
    "SD = np.sqrt((9)+(16))\n",
    "print('Standard Deviation is Rs', SD*45, 'Million')"
   ]
  },
  {
   "cell_type": "code",
   "execution_count": null,
   "id": "d540cd76",
   "metadata": {},
   "outputs": [],
   "source": [
    "# A. Specify a Rupee range (centered on the mean) such that it contains 95% probability for the annual profit of the company.\n",
    "print('Range is Rs',(stats.norm.interval(0.95,540,225)),'in Millions')"
   ]
  },
  {
   "cell_type": "code",
   "execution_count": null,
   "id": "8f914eae",
   "metadata": {},
   "outputs": [],
   "source": [
    "# B. Specify the 5th percentile of profit (in Rupees) for the company\n",
    "# To compute 5th Percentile, we use the formula X=μ + Zσ; wherein from z table, 5 percentile = -1.645\n",
    "X= 540+(-1.645)*(225)\n",
    "print('5th percentile of profit (in Million Rupees) is',np.round(X,))"
   ]
  },
  {
   "cell_type": "code",
   "execution_count": null,
   "id": "79bba689",
   "metadata": {},
   "outputs": [],
   "source": [
    "# C. Which of the two divisions has a larger probability of making a loss in a given year?"
   ]
  },
  {
   "cell_type": "code",
   "execution_count": null,
   "id": "799db4f2",
   "metadata": {},
   "outputs": [],
   "source": [
    "# Probability of Division 1 making a loss P(X<0)\n",
    "stats.norm.cdf(0,5,3)"
   ]
  },
  {
   "cell_type": "code",
   "execution_count": null,
   "id": "e0b770f9",
   "metadata": {},
   "outputs": [],
   "source": [
    "# Probability of Division 2 making a loss P(X<0)\n",
    "stats.norm.cdf(0,7,4)"
   ]
  }
 ],
 "metadata": {
  "kernelspec": {
   "display_name": "Python 3 (ipykernel)",
   "language": "python",
   "name": "python3"
  },
  "language_info": {
   "codemirror_mode": {
    "name": "ipython",
    "version": 3
   },
   "file_extension": ".py",
   "mimetype": "text/x-python",
   "name": "python",
   "nbconvert_exporter": "python",
   "pygments_lexer": "ipython3",
   "version": "3.9.12"
  }
 },
 "nbformat": 4,
 "nbformat_minor": 5
}
