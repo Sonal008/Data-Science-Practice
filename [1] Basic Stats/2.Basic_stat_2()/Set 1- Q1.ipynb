{
 "cells": [
  {
   "cell_type": "code",
   "execution_count": 1,
   "id": "5ef1ec19",
   "metadata": {},
   "outputs": [],
   "source": [
    "#import the libraries\n",
    "import pandas as pd\n",
    "import matplotlib.pyplot as plt\n",
    "import numpy as np\n",
    "import seaborn as sns"
   ]
  },
  {
   "cell_type": "code",
   "execution_count": 2,
   "id": "0389d11b",
   "metadata": {},
   "outputs": [
    {
     "data": {
      "text/plain": [
       "0     24.23\n",
       "1     25.53\n",
       "2     25.41\n",
       "3     24.14\n",
       "4     29.62\n",
       "5     28.25\n",
       "6     25.81\n",
       "7     24.39\n",
       "8     40.26\n",
       "9     32.95\n",
       "10    91.36\n",
       "11    25.99\n",
       "12    39.42\n",
       "13    26.71\n",
       "14    35.00\n",
       "dtype: float64"
      ]
     },
     "execution_count": 2,
     "metadata": {},
     "output_type": "execute_result"
    }
   ],
   "source": [
    "measure_X = pd.Series([24.23,25.53, 25.41, 24.14, 29.62, 28.25, 25.81,24.39, 40.26, 32.95, 91.36, 25.99, 39.42, 26.71,35.00])\n",
    "measure_X"
   ]
  },
  {
   "cell_type": "code",
   "execution_count": 3,
   "id": "23b9f90d",
   "metadata": {},
   "outputs": [
    {
     "data": {
      "text/plain": [
       "['Allied Signal',\n",
       " 'Bankers Trust',\n",
       " 'General Mills',\n",
       " 'ITT Industries',\n",
       " 'J.P.Morgan & Co.',\n",
       " 'Lehman Brothers',\n",
       " 'Marriott',\n",
       " 'MCI',\n",
       " 'Merrill Lynch',\n",
       " 'Microsoft',\n",
       " 'Morgan Stanley',\n",
       " 'Sun Microsystems',\n",
       " 'Travelers',\n",
       " 'US Airways',\n",
       " 'Warner-Lambert']"
      ]
     },
     "execution_count": 3,
     "metadata": {},
     "output_type": "execute_result"
    }
   ],
   "source": [
    "Company =['Allied Signal', 'Bankers Trust', 'General Mills', 'ITT Industries', 'J.P.Morgan & Co.',\n",
    "         'Lehman Brothers','Marriott','MCI', 'Merrill Lynch', 'Microsoft', 'Morgan Stanley',\n",
    "          'Sun Microsystems','Travelers','US Airways', 'Warner-Lambert']\n",
    "Company"
   ]
  },
  {
   "cell_type": "code",
   "execution_count": 4,
   "id": "9c610ec1",
   "metadata": {},
   "outputs": [
    {
     "data": {
      "text/plain": [
       "33.27133333333333"
      ]
     },
     "execution_count": 4,
     "metadata": {},
     "output_type": "execute_result"
    }
   ],
   "source": [
    "measure_X.mean()"
   ]
  },
  {
   "cell_type": "code",
   "execution_count": 5,
   "id": "7402cd38",
   "metadata": {},
   "outputs": [
    {
     "data": {
      "text/plain": [
       "287.1466123809524"
      ]
     },
     "execution_count": 5,
     "metadata": {},
     "output_type": "execute_result"
    }
   ],
   "source": [
    "measure_X.var()"
   ]
  },
  {
   "cell_type": "code",
   "execution_count": 6,
   "id": "4d8bba51",
   "metadata": {},
   "outputs": [
    {
     "data": {
      "text/plain": [
       "16.945400921222028"
      ]
     },
     "execution_count": 6,
     "metadata": {},
     "output_type": "execute_result"
    }
   ],
   "source": [
    "measure_X.std()"
   ]
  },
  {
   "cell_type": "code",
   "execution_count": 7,
   "id": "2e20282d",
   "metadata": {},
   "outputs": [
    {
     "data": {
      "text/plain": [
       "{'whiskers': [<matplotlib.lines.Line2D at 0x1b45ee8a220>,\n",
       "  <matplotlib.lines.Line2D at 0x1b45ee8a4f0>],\n",
       " 'caps': [<matplotlib.lines.Line2D at 0x1b45ee8a880>,\n",
       "  <matplotlib.lines.Line2D at 0x1b45ee8aa90>],\n",
       " 'boxes': [<matplotlib.lines.Line2D at 0x1b45ee8a070>],\n",
       " 'medians': [<matplotlib.lines.Line2D at 0x1b45ee8ad60>],\n",
       " 'fliers': [<matplotlib.lines.Line2D at 0x1b45ee9d070>],\n",
       " 'means': []}"
      ]
     },
     "execution_count": 7,
     "metadata": {},
     "output_type": "execute_result"
    },
    {
     "data": {
      "image/png": "[encoded data removed]",
      "text/plain": [
       "<Figure size 432x288 with 1 Axes>"
      ]
     },
     "metadata": {
      "needs_background": "light"
     },
     "output_type": "display_data"
    }
   ],
   "source": [
    "plt.boxplot(measure_X)"
   ]
  }
 ],
 "metadata": {
  "kernelspec": {
   "display_name": "Python 3 (ipykernel)",
   "language": "python",
   "name": "python3"
  },
  "language_info": {
   "codemirror_mode": {
    "name": "ipython",
    "version": 3
   },
   "file_extension": ".py",
   "mimetype": "text/x-python",
   "name": "python",
   "nbconvert_exporter": "python",
   "pygments_lexer": "ipython3",
   "version": "3.9.12"
  }
 },
 "nbformat": 4,
 "nbformat_minor": 5
}
