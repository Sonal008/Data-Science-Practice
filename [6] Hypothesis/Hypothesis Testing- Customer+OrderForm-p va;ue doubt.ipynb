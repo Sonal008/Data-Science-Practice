{
 "cells": [
  {
   "cell_type": "code",
   "execution_count": 1,
   "id": "a7e432d7",
   "metadata": {},
   "outputs": [],
   "source": [
    "#Import all libraries\n",
    "import pandas as pd\n",
    "from sklearn.feature_selection import chi2\n",
    "from scipy.stats import chi2_contingency\n",
    "from sklearn.preprocessing import OrdinalEncoder"
   ]
  },
  {
   "cell_type": "code",
   "execution_count": 2,
   "id": "eba76972",
   "metadata": {},
   "outputs": [
    {
     "data": {
      "text/html": [
       "<div>\n",
       "<style scoped>\n",
       "    .dataframe tbody tr th:only-of-type {\n",
       "        vertical-align: middle;\n",
       "    }\n",
       "\n",
       "    .dataframe tbody tr th {\n",
       "        vertical-align: top;\n",
       "    }\n",
       "\n",
       "    .dataframe thead th {\n",
       "        text-align: right;\n",
       "    }\n",
       "</style>\n",
       "<table border=\"1\" class=\"dataframe\">\n",
       "  <thead>\n",
       "    <tr style=\"text-align: right;\">\n",
       "      <th></th>\n",
       "      <th>Phillippines</th>\n",
       "      <th>Indonesia</th>\n",
       "      <th>Malta</th>\n",
       "      <th>India</th>\n",
       "    </tr>\n",
       "  </thead>\n",
       "  <tbody>\n",
       "    <tr>\n",
       "      <th>0</th>\n",
       "      <td>Error Free</td>\n",
       "      <td>Error Free</td>\n",
       "      <td>Defective</td>\n",
       "      <td>Error Free</td>\n",
       "    </tr>\n",
       "    <tr>\n",
       "      <th>1</th>\n",
       "      <td>Error Free</td>\n",
       "      <td>Error Free</td>\n",
       "      <td>Error Free</td>\n",
       "      <td>Defective</td>\n",
       "    </tr>\n",
       "    <tr>\n",
       "      <th>2</th>\n",
       "      <td>Error Free</td>\n",
       "      <td>Defective</td>\n",
       "      <td>Defective</td>\n",
       "      <td>Error Free</td>\n",
       "    </tr>\n",
       "    <tr>\n",
       "      <th>3</th>\n",
       "      <td>Error Free</td>\n",
       "      <td>Error Free</td>\n",
       "      <td>Error Free</td>\n",
       "      <td>Error Free</td>\n",
       "    </tr>\n",
       "    <tr>\n",
       "      <th>4</th>\n",
       "      <td>Error Free</td>\n",
       "      <td>Error Free</td>\n",
       "      <td>Defective</td>\n",
       "      <td>Error Free</td>\n",
       "    </tr>\n",
       "  </tbody>\n",
       "</table>\n",
       "</div>"
      ],
      "text/plain": [
       "  Phillippines   Indonesia       Malta       India\n",
       "0   Error Free  Error Free   Defective  Error Free\n",
       "1   Error Free  Error Free  Error Free   Defective\n",
       "2   Error Free   Defective   Defective  Error Free\n",
       "3   Error Free  Error Free  Error Free  Error Free\n",
       "4   Error Free  Error Free   Defective  Error Free"
      ]
     },
     "execution_count": 2,
     "metadata": {},
     "output_type": "execute_result"
    }
   ],
   "source": [
    "data = pd.read_csv(\"Costomer+OrderForm.csv\")\n",
    "data.head()"
   ]
  },
  {
   "cell_type": "code",
   "execution_count": 3,
   "id": "a8628f8b",
   "metadata": {},
   "outputs": [
    {
     "data": {
      "text/plain": [
       "Phillippines    object\n",
       "Indonesia       object\n",
       "Malta           object\n",
       "India           object\n",
       "dtype: object"
      ]
     },
     "execution_count": 3,
     "metadata": {},
     "output_type": "execute_result"
    }
   ],
   "source": [
    "data.dtypes                            #datatype of each column is categoricall"
   ]
  },
  {
   "cell_type": "code",
   "execution_count": 4,
   "id": "85abdd82",
   "metadata": {},
   "outputs": [
    {
     "data": {
      "text/plain": [
       "Index(['Phillippines', 'Indonesia', 'Malta', 'India'], dtype='object')"
      ]
     },
     "execution_count": 4,
     "metadata": {},
     "output_type": "execute_result"
    }
   ],
   "source": [
    "data.columns"
   ]
  },
  {
   "cell_type": "code",
   "execution_count": 5,
   "id": "c955998e",
   "metadata": {},
   "outputs": [
    {
     "data": {
      "text/plain": [
       "OrdinalEncoder()"
      ]
     },
     "execution_count": 5,
     "metadata": {},
     "output_type": "execute_result"
    }
   ],
   "source": [
    "enc = OrdinalEncoder()\n",
    "enc.fit(data[['Phillippines', 'Indonesia', 'Malta', 'India']])"
   ]
  },
  {
   "cell_type": "code",
   "execution_count": 6,
   "id": "4118b02f",
   "metadata": {},
   "outputs": [
    {
     "data": {
      "text/plain": [
       "Phillippines    float64\n",
       "Indonesia       float64\n",
       "Malta           float64\n",
       "India           float64\n",
       "dtype: object"
      ]
     },
     "execution_count": 6,
     "metadata": {},
     "output_type": "execute_result"
    }
   ],
   "source": [
    "data[['Phillippines', 'Indonesia', 'Malta', 'India']] = enc.transform(data[['Phillippines', 'Indonesia', 'Malta', 'India']])\n",
    "data.dtypes"
   ]
  },
  {
   "cell_type": "code",
   "execution_count": 7,
   "id": "8cd63c27",
   "metadata": {},
   "outputs": [
    {
     "data": {
      "text/html": [
       "<div>\n",
       "<style scoped>\n",
       "    .dataframe tbody tr th:only-of-type {\n",
       "        vertical-align: middle;\n",
       "    }\n",
       "\n",
       "    .dataframe tbody tr th {\n",
       "        vertical-align: top;\n",
       "    }\n",
       "\n",
       "    .dataframe thead th {\n",
       "        text-align: right;\n",
       "    }\n",
       "</style>\n",
       "<table border=\"1\" class=\"dataframe\">\n",
       "  <thead>\n",
       "    <tr style=\"text-align: right;\">\n",
       "      <th></th>\n",
       "      <th>Phillippines</th>\n",
       "      <th>Indonesia</th>\n",
       "      <th>Malta</th>\n",
       "      <th>India</th>\n",
       "    </tr>\n",
       "  </thead>\n",
       "  <tbody>\n",
       "    <tr>\n",
       "      <th>0</th>\n",
       "      <td>1.0</td>\n",
       "      <td>1.0</td>\n",
       "      <td>0.0</td>\n",
       "      <td>1.0</td>\n",
       "    </tr>\n",
       "    <tr>\n",
       "      <th>1</th>\n",
       "      <td>1.0</td>\n",
       "      <td>1.0</td>\n",
       "      <td>1.0</td>\n",
       "      <td>0.0</td>\n",
       "    </tr>\n",
       "    <tr>\n",
       "      <th>2</th>\n",
       "      <td>1.0</td>\n",
       "      <td>0.0</td>\n",
       "      <td>0.0</td>\n",
       "      <td>1.0</td>\n",
       "    </tr>\n",
       "    <tr>\n",
       "      <th>3</th>\n",
       "      <td>1.0</td>\n",
       "      <td>1.0</td>\n",
       "      <td>1.0</td>\n",
       "      <td>1.0</td>\n",
       "    </tr>\n",
       "    <tr>\n",
       "      <th>4</th>\n",
       "      <td>1.0</td>\n",
       "      <td>1.0</td>\n",
       "      <td>0.0</td>\n",
       "      <td>1.0</td>\n",
       "    </tr>\n",
       "  </tbody>\n",
       "</table>\n",
       "</div>"
      ],
      "text/plain": [
       "   Phillippines  Indonesia  Malta  India\n",
       "0           1.0        1.0    0.0    1.0\n",
       "1           1.0        1.0    1.0    0.0\n",
       "2           1.0        0.0    0.0    1.0\n",
       "3           1.0        1.0    1.0    1.0\n",
       "4           1.0        1.0    0.0    1.0"
      ]
     },
     "execution_count": 7,
     "metadata": {},
     "output_type": "execute_result"
    }
   ],
   "source": [
    "data.head(5)"
   ]
  },
  {
   "cell_type": "markdown",
   "id": "4d388485",
   "metadata": {},
   "source": [
    "## Chi-Squared Test "
   ]
  },
  {
   "cell_type": "code",
   "execution_count": 8,
   "id": "393b2afe",
   "metadata": {},
   "outputs": [
    {
     "data": {
      "text/plain": [
       "(112.74730231885849,\n",
       " 1.0,\n",
       " 897,\n",
       " array([[0.74793008, 0.73689052, 0.7424103 , 0.77276909],\n",
       "        [0.74793008, 0.73689052, 0.7424103 , 0.77276909],\n",
       "        [0.49862006, 0.49126035, 0.4949402 , 0.51517939],\n",
       "        ...,\n",
       "        [0.74793008, 0.73689052, 0.7424103 , 0.77276909],\n",
       "        [0.99724011, 0.9825207 , 0.9898804 , 1.03035879],\n",
       "        [0.49862006, 0.49126035, 0.4949402 , 0.51517939]]))"
      ]
     },
     "execution_count": 8,
     "metadata": {},
     "output_type": "execute_result"
    }
   ],
   "source": [
    "val = chi2_contingency(data)\n",
    "val"
   ]
  },
  {
   "cell_type": "code",
   "execution_count": 9,
   "id": "4d1ad1cc",
   "metadata": {},
   "outputs": [
    {
     "data": {
      "text/plain": [
       "array([[0.74793008, 0.73689052, 0.7424103 , 0.77276909],\n",
       "       [0.74793008, 0.73689052, 0.7424103 , 0.77276909],\n",
       "       [0.49862006, 0.49126035, 0.4949402 , 0.51517939],\n",
       "       ...,\n",
       "       [0.74793008, 0.73689052, 0.7424103 , 0.77276909],\n",
       "       [0.99724011, 0.9825207 , 0.9898804 , 1.03035879],\n",
       "       [0.49862006, 0.49126035, 0.4949402 , 0.51517939]])"
      ]
     },
     "execution_count": 9,
     "metadata": {},
     "output_type": "execute_result"
    }
   ],
   "source": [
    "expected_values = val[3]\n",
    "expected_values"
   ]
  },
  {
   "cell_type": "code",
   "execution_count": 12,
   "id": "c5617aee",
   "metadata": {},
   "outputs": [
    {
     "data": {
      "text/plain": [
       "112.74730231885849"
      ]
     },
     "execution_count": 12,
     "metadata": {},
     "output_type": "execute_result"
    }
   ],
   "source": [
    "p_value = val[0]\n",
    "p_value"
   ]
  },
  {
   "cell_type": "code",
   "execution_count": 11,
   "id": "2fd53a50",
   "metadata": {},
   "outputs": [
    {
     "name": "stdout",
     "output_type": "stream",
     "text": [
      "we are accepting null hypothesis\n"
     ]
    }
   ],
   "source": [
    "if p_value <0.05:                                  # alpha value is 0.05 or 5%\n",
    "    print(\" we are rejecting null hypothesis\")\n",
    "else:\n",
    "    print(\"we are accepting null hypothesis\")"
   ]
  },
  {
   "cell_type": "code",
   "execution_count": null,
   "id": "cf5aaf07",
   "metadata": {},
   "outputs": [],
   "source": []
  }
 ],
 "metadata": {
  "kernelspec": {
   "display_name": "Python 3 (ipykernel)",
   "language": "python",
   "name": "python3"
  },
  "language_info": {
   "codemirror_mode": {
    "name": "ipython",
    "version": 3
   },
   "file_extension": ".py",
   "mimetype": "text/x-python",
   "name": "python",
   "nbconvert_exporter": "python",
   "pygments_lexer": "ipython3",
   "version": "3.9.12"
  }
 },
 "nbformat": 4,
 "nbformat_minor": 5
}
