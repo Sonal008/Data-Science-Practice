{
 "cells": [
  {
   "cell_type": "code",
   "execution_count": 1,
   "id": "e7a66b76",
   "metadata": {},
   "outputs": [],
   "source": [
    "#import the libraries\n",
    "import pandas as pd\n",
    "import scipy \n",
    "import numpy as np\n",
    "from scipy import stats\n",
    "import warnings\n",
    "warnings.filterwarnings(\"ignore\")"
   ]
  },
  {
   "cell_type": "code",
   "execution_count": 2,
   "id": "8ef1c307",
   "metadata": {},
   "outputs": [
    {
     "data": {
      "text/html": [
       "<div>\n",
       "<style scoped>\n",
       "    .dataframe tbody tr th:only-of-type {\n",
       "        vertical-align: middle;\n",
       "    }\n",
       "\n",
       "    .dataframe tbody tr th {\n",
       "        vertical-align: top;\n",
       "    }\n",
       "\n",
       "    .dataframe thead th {\n",
       "        text-align: right;\n",
       "    }\n",
       "</style>\n",
       "<table border=\"1\" class=\"dataframe\">\n",
       "  <thead>\n",
       "    <tr style=\"text-align: right;\">\n",
       "      <th></th>\n",
       "      <th>Unit A</th>\n",
       "      <th>Unit B</th>\n",
       "    </tr>\n",
       "  </thead>\n",
       "  <tbody>\n",
       "    <tr>\n",
       "      <th>0</th>\n",
       "      <td>6.8090</td>\n",
       "      <td>6.7703</td>\n",
       "    </tr>\n",
       "    <tr>\n",
       "      <th>1</th>\n",
       "      <td>6.4376</td>\n",
       "      <td>7.5093</td>\n",
       "    </tr>\n",
       "    <tr>\n",
       "      <th>2</th>\n",
       "      <td>6.9157</td>\n",
       "      <td>6.7300</td>\n",
       "    </tr>\n",
       "    <tr>\n",
       "      <th>3</th>\n",
       "      <td>7.3012</td>\n",
       "      <td>6.7878</td>\n",
       "    </tr>\n",
       "    <tr>\n",
       "      <th>4</th>\n",
       "      <td>7.4488</td>\n",
       "      <td>7.1522</td>\n",
       "    </tr>\n",
       "  </tbody>\n",
       "</table>\n",
       "</div>"
      ],
      "text/plain": [
       "   Unit A  Unit B\n",
       "0  6.8090  6.7703\n",
       "1  6.4376  7.5093\n",
       "2  6.9157  6.7300\n",
       "3  7.3012  6.7878\n",
       "4  7.4488  7.1522"
      ]
     },
     "execution_count": 2,
     "metadata": {},
     "output_type": "execute_result"
    }
   ],
   "source": [
    "Cut = pd.read_csv(\"Cutlets.csv\")\n",
    "Cut.head(5)"
   ]
  },
  {
   "cell_type": "code",
   "execution_count": 3,
   "id": "01fcc399",
   "metadata": {},
   "outputs": [
    {
     "data": {
      "text/plain": [
       "array([6.5797, 7.2783, 7.2705, 6.9405, 6.8755, 7.2854, 6.8755, 7.2828,\n",
       "       6.9952, 7.2705])"
      ]
     },
     "execution_count": 3,
     "metadata": {},
     "output_type": "execute_result"
    }
   ],
   "source": [
    "#Random sample of Unit A\n",
    "sample_size= 10\n",
    "Cut_Asample= np.random.choice(Cut.iloc[:,0],sample_size)\n",
    "Cut_Asample"
   ]
  },
  {
   "cell_type": "code",
   "execution_count": 4,
   "id": "2f284803",
   "metadata": {},
   "outputs": [
    {
     "data": {
      "text/plain": [
       "array([6.8889, 6.7478, 7.1688, 7.0503, 6.9182, 6.9399, 6.73  , 6.8889,\n",
       "       7.5459, 7.4314])"
      ]
     },
     "execution_count": 4,
     "metadata": {},
     "output_type": "execute_result"
    }
   ],
   "source": [
    "#Random sample of Unit B\n",
    "sample_size= 10\n",
    "Cut_Bsample= np.random.choice(Cut.iloc[:,1],sample_size)\n",
    "Cut_Bsample"
   ]
  },
  {
   "cell_type": "markdown",
   "id": "13fe1dfb",
   "metadata": {},
   "source": [
    "### Independent T-Test"
   ]
  },
  {
   "cell_type": "code",
   "execution_count": 5,
   "id": "c263f550",
   "metadata": {},
   "outputs": [
    {
     "data": {
      "text/plain": [
       "Ttest_indResult(statistic=0.2940034151032175, pvalue=0.772118608262254)"
      ]
     },
     "execution_count": 5,
     "metadata": {},
     "output_type": "execute_result"
    }
   ],
   "source": [
    "Ttest = stats.ttest_ind(Cut_Asample,Cut_Bsample)\n",
    "Ttest"
   ]
  },
  {
   "cell_type": "code",
   "execution_count": 6,
   "id": "2be5ac34",
   "metadata": {},
   "outputs": [
    {
     "data": {
      "text/plain": [
       "0.772118608262254"
      ]
     },
     "execution_count": 6,
     "metadata": {},
     "output_type": "execute_result"
    }
   ],
   "source": [
    "#p-value \n",
    "p_value = stats.ttest_ind(Cut_Asample,Cut_Bsample)[1]\n",
    "p_value"
   ]
  },
  {
   "cell_type": "code",
   "execution_count": 7,
   "id": "e8d5505d",
   "metadata": {},
   "outputs": [
    {
     "name": "stdout",
     "output_type": "stream",
     "text": [
      "we are accepting null hypothesis\n"
     ]
    }
   ],
   "source": [
    "if p_value <0.05:                                  # alpha value is 0.05 or 5%\n",
    "    print(\" we are rejecting null hypothesis\")\n",
    "else:\n",
    "    print(\"we are accepting null hypothesis\")"
   ]
  },
  {
   "cell_type": "markdown",
   "id": "9ad50c8f",
   "metadata": {},
   "source": [
    "#### Since the p- value is always > 0.05, there is a significant difference in diameter of Cutlet between 2 units."
   ]
  }
 ],
 "metadata": {
  "kernelspec": {
   "display_name": "Python 3 (ipykernel)",
   "language": "python",
   "name": "python3"
  },
  "language_info": {
   "codemirror_mode": {
    "name": "ipython",
    "version": 3
   },
   "file_extension": ".py",
   "mimetype": "text/x-python",
   "name": "python",
   "nbconvert_exporter": "python",
   "pygments_lexer": "ipython3",
   "version": "3.9.12"
  }
 },
 "nbformat": 4,
 "nbformat_minor": 5
}
